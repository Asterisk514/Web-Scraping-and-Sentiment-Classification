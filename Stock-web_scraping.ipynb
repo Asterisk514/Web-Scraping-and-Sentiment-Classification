{
 "cells": [
  {
   "cell_type": "markdown",
   "id": "c7d5d2f7-b883-4390-8fcd-19aefea7b085",
   "metadata": {},
   "source": [
    "### Importing Required Libraries ###"
   ]
  },
  {
   "cell_type": "code",
   "execution_count": 1,
   "id": "18fec5e7-cf90-487d-b86e-2696a4af9179",
   "metadata": {},
   "outputs": [],
   "source": [
    "import pandas as pd\n",
    "import requests \n",
    "from bs4 import BeautifulSoup"
   ]
  },
  {
   "cell_type": "markdown",
   "id": "61b260df-281b-4794-af86-a15eb8eae29a",
   "metadata": {},
   "source": [
    "### Webpage ###"
   ]
  },
  {
   "cell_type": "code",
   "execution_count": 2,
   "id": "079b0cce-03e4-4415-88b2-fe9ef65eacff",
   "metadata": {},
   "outputs": [],
   "source": [
    "webpage = requests.get('https://www.livemint.com/market/stock-market-news').text"
   ]
  },
  {
   "cell_type": "code",
   "execution_count": 4,
   "id": "d372ba9c-eb1f-4135-ad88-bdbcb791c683",
   "metadata": {},
   "outputs": [],
   "source": [
    "soup = BeautifulSoup(webpage, 'lxml')"
   ]
  },
  {
   "cell_type": "markdown",
   "id": "93aac303-0efd-49d6-9965-2f1226196813",
   "metadata": {},
   "source": [
    "### Contents ###"
   ]
  },
  {
   "cell_type": "code",
   "execution_count": null,
   "id": "5b41b95f-510b-4aa3-b31f-8e59d29114b9",
   "metadata": {},
   "outputs": [],
   "source": [
    "print(soup.prettify())"
   ]
  },
  {
   "cell_type": "markdown",
   "id": "a20ceeda-f870-4f98-8b72-44511c48f5a9",
   "metadata": {},
   "source": [
    "### Extracting h2 tag element text ###"
   ]
  },
  {
   "cell_type": "code",
   "execution_count": 9,
   "id": "5f74b196-34b4-4781-ba8a-616a04785bf4",
   "metadata": {},
   "outputs": [
    {
     "data": {
      "text/plain": [
       "'GRM Overseas share price jumps 10% after announcement of fundraise'"
      ]
     },
     "execution_count": 9,
     "metadata": {},
     "output_type": "execute_result"
    }
   ],
   "source": [
    "soup.find_all('h2')[11].text.strip()"
   ]
  },
  {
   "cell_type": "code",
   "execution_count": 35,
   "id": "cf8cec8a-579a-4946-a810-f1308d80b170",
   "metadata": {},
   "outputs": [
    {
     "data": {
      "text/plain": [
       "20"
      ]
     },
     "execution_count": 35,
     "metadata": {},
     "output_type": "execute_result"
    }
   ],
   "source": [
    "len(soup.find_all('h2'))"
   ]
  },
  {
   "cell_type": "code",
   "execution_count": 13,
   "id": "df9196a4-0022-436d-8e16-87258bc85a4f",
   "metadata": {},
   "outputs": [],
   "source": [
    "names = []\n",
    "times = []\n",
    "reading_time = []\n",
    "urls = []"
   ]
  },
  {
   "cell_type": "code",
   "execution_count": 8,
   "id": "50c0ff7f-62b3-4d02-b6db-6a500b946892",
   "metadata": {},
   "outputs": [],
   "source": [
    "from urllib.parse import urljoin"
   ]
  },
  {
   "cell_type": "code",
   "execution_count": 9,
   "id": "78ab82a1-1904-42b1-8e38-5c05625fa70e",
   "metadata": {},
   "outputs": [],
   "source": [
    "base_url = \"https://www.livemint.com/market/stock-market-news\""
   ]
  },
  {
   "cell_type": "markdown",
   "id": "afb6040f-0309-4872-91c8-ac4e66526367",
   "metadata": {},
   "source": [
    "### Extracting News heading, Upload time, URL and time to read from each page ###"
   ]
  },
  {
   "cell_type": "code",
   "execution_count": 14,
   "id": "bd1f9ed0-46dd-42ff-978c-6dc050773692",
   "metadata": {},
   "outputs": [],
   "source": [
    "all_news = soup.find_all('div', class_ = \"listingNew clearfix impression-candidate ga-tracking\")\n",
    "for news in all_news:\n",
    "    the_news = news.find('div', class_ = \"listtostory clearfix\")\n",
    "    headline_section = the_news.find('div', class_ = \"headlineSec\")\n",
    "    headline = headline_section.find('h2').text.strip()\n",
    "    names.append(headline)\n",
    "    time = headline_section.find('span', attrs = {'data-updatedtime' : True}).get('data-updatedtime').strip()\n",
    "    time_read = headline_section.find('span', class_ = \"fl date\").find('em').text\n",
    "    reading_time.append(time_read)\n",
    "    target_url = headline_section.find('h2', class_='headline').find('a')['href']\n",
    "    stripped_target_url = target_url[len(\"/market/stock-market-news\"):]\n",
    "    final_link = urljoin(base_url, stripped_target_url)\n",
    "    urls.append(final_link)\n",
    "    times.append(time)"
   ]
  },
  {
   "cell_type": "code",
   "execution_count": null,
   "id": "20f6bbdb-6413-4a72-91b5-c77997ba9bd4",
   "metadata": {},
   "outputs": [],
   "source": []
  }
 ],
 "metadata": {
  "kernelspec": {
   "display_name": "Python 3 (ipykernel)",
   "language": "python",
   "name": "python3"
  },
  "language_info": {
   "codemirror_mode": {
    "name": "ipython",
    "version": 3
   },
   "file_extension": ".py",
   "mimetype": "text/x-python",
   "name": "python",
   "nbconvert_exporter": "python",
   "pygments_lexer": "ipython3",
   "version": "3.11.5"
  }
 },
 "nbformat": 4,
 "nbformat_minor": 5
}
